from pathlib import Path
from openai import OpenAI


!source bin/activate


!cd ..


!ls
